{
 "cells": [
  {
   "cell_type": "markdown",
   "metadata": {},
   "source": [
    "# Load and Explore the Dataset"
   ]
  },
  {
   "cell_type": "code",
   "execution_count": 38,
   "metadata": {},
   "outputs": [],
   "source": [
    "# Import pandas and numpy packages\n",
    "import pandas as pd\n",
    "import numpy as np"
   ]
  },
  {
   "cell_type": "code",
   "execution_count": 39,
   "metadata": {},
   "outputs": [],
   "source": [
    "# Load the dataset\n",
    "df=pd.read_csv('../data/raw/beer_reviews.csv')"
   ]
  },
  {
   "cell_type": "code",
   "execution_count": 40,
   "metadata": {},
   "outputs": [
    {
     "data": {
      "text/html": [
       "<div>\n",
       "<style scoped>\n",
       "    .dataframe tbody tr th:only-of-type {\n",
       "        vertical-align: middle;\n",
       "    }\n",
       "\n",
       "    .dataframe tbody tr th {\n",
       "        vertical-align: top;\n",
       "    }\n",
       "\n",
       "    .dataframe thead th {\n",
       "        text-align: right;\n",
       "    }\n",
       "</style>\n",
       "<table border=\"1\" class=\"dataframe\">\n",
       "  <thead>\n",
       "    <tr style=\"text-align: right;\">\n",
       "      <th></th>\n",
       "      <th>brewery_id</th>\n",
       "      <th>brewery_name</th>\n",
       "      <th>review_time</th>\n",
       "      <th>review_overall</th>\n",
       "      <th>review_aroma</th>\n",
       "      <th>review_appearance</th>\n",
       "      <th>review_profilename</th>\n",
       "      <th>beer_style</th>\n",
       "      <th>review_palate</th>\n",
       "      <th>review_taste</th>\n",
       "      <th>beer_name</th>\n",
       "      <th>beer_abv</th>\n",
       "      <th>beer_beerid</th>\n",
       "    </tr>\n",
       "  </thead>\n",
       "  <tbody>\n",
       "    <tr>\n",
       "      <th>0</th>\n",
       "      <td>10325</td>\n",
       "      <td>Vecchio Birraio</td>\n",
       "      <td>1234817823</td>\n",
       "      <td>1.5</td>\n",
       "      <td>2.0</td>\n",
       "      <td>2.5</td>\n",
       "      <td>stcules</td>\n",
       "      <td>Hefeweizen</td>\n",
       "      <td>1.5</td>\n",
       "      <td>1.5</td>\n",
       "      <td>Sausa Weizen</td>\n",
       "      <td>5.0</td>\n",
       "      <td>47986</td>\n",
       "    </tr>\n",
       "    <tr>\n",
       "      <th>1</th>\n",
       "      <td>10325</td>\n",
       "      <td>Vecchio Birraio</td>\n",
       "      <td>1235915097</td>\n",
       "      <td>3.0</td>\n",
       "      <td>2.5</td>\n",
       "      <td>3.0</td>\n",
       "      <td>stcules</td>\n",
       "      <td>English Strong Ale</td>\n",
       "      <td>3.0</td>\n",
       "      <td>3.0</td>\n",
       "      <td>Red Moon</td>\n",
       "      <td>6.2</td>\n",
       "      <td>48213</td>\n",
       "    </tr>\n",
       "    <tr>\n",
       "      <th>2</th>\n",
       "      <td>10325</td>\n",
       "      <td>Vecchio Birraio</td>\n",
       "      <td>1235916604</td>\n",
       "      <td>3.0</td>\n",
       "      <td>2.5</td>\n",
       "      <td>3.0</td>\n",
       "      <td>stcules</td>\n",
       "      <td>Foreign / Export Stout</td>\n",
       "      <td>3.0</td>\n",
       "      <td>3.0</td>\n",
       "      <td>Black Horse Black Beer</td>\n",
       "      <td>6.5</td>\n",
       "      <td>48215</td>\n",
       "    </tr>\n",
       "    <tr>\n",
       "      <th>3</th>\n",
       "      <td>10325</td>\n",
       "      <td>Vecchio Birraio</td>\n",
       "      <td>1234725145</td>\n",
       "      <td>3.0</td>\n",
       "      <td>3.0</td>\n",
       "      <td>3.5</td>\n",
       "      <td>stcules</td>\n",
       "      <td>German Pilsener</td>\n",
       "      <td>2.5</td>\n",
       "      <td>3.0</td>\n",
       "      <td>Sausa Pils</td>\n",
       "      <td>5.0</td>\n",
       "      <td>47969</td>\n",
       "    </tr>\n",
       "    <tr>\n",
       "      <th>4</th>\n",
       "      <td>1075</td>\n",
       "      <td>Caldera Brewing Company</td>\n",
       "      <td>1293735206</td>\n",
       "      <td>4.0</td>\n",
       "      <td>4.5</td>\n",
       "      <td>4.0</td>\n",
       "      <td>johnmichaelsen</td>\n",
       "      <td>American Double / Imperial IPA</td>\n",
       "      <td>4.0</td>\n",
       "      <td>4.5</td>\n",
       "      <td>Cauldron DIPA</td>\n",
       "      <td>7.7</td>\n",
       "      <td>64883</td>\n",
       "    </tr>\n",
       "  </tbody>\n",
       "</table>\n",
       "</div>"
      ],
      "text/plain": [
       "   brewery_id             brewery_name  review_time  review_overall  \\\n",
       "0       10325          Vecchio Birraio   1234817823             1.5   \n",
       "1       10325          Vecchio Birraio   1235915097             3.0   \n",
       "2       10325          Vecchio Birraio   1235916604             3.0   \n",
       "3       10325          Vecchio Birraio   1234725145             3.0   \n",
       "4        1075  Caldera Brewing Company   1293735206             4.0   \n",
       "\n",
       "   review_aroma  review_appearance review_profilename  \\\n",
       "0           2.0                2.5            stcules   \n",
       "1           2.5                3.0            stcules   \n",
       "2           2.5                3.0            stcules   \n",
       "3           3.0                3.5            stcules   \n",
       "4           4.5                4.0     johnmichaelsen   \n",
       "\n",
       "                       beer_style  review_palate  review_taste  \\\n",
       "0                      Hefeweizen            1.5           1.5   \n",
       "1              English Strong Ale            3.0           3.0   \n",
       "2          Foreign / Export Stout            3.0           3.0   \n",
       "3                 German Pilsener            2.5           3.0   \n",
       "4  American Double / Imperial IPA            4.0           4.5   \n",
       "\n",
       "                beer_name  beer_abv  beer_beerid  \n",
       "0            Sausa Weizen       5.0        47986  \n",
       "1                Red Moon       6.2        48213  \n",
       "2  Black Horse Black Beer       6.5        48215  \n",
       "3              Sausa Pils       5.0        47969  \n",
       "4           Cauldron DIPA       7.7        64883  "
      ]
     },
     "execution_count": 40,
     "metadata": {},
     "output_type": "execute_result"
    }
   ],
   "source": [
    "# Display first 5 rows\n",
    "df.head()"
   ]
  },
  {
   "cell_type": "code",
   "execution_count": 41,
   "metadata": {},
   "outputs": [
    {
     "name": "stdout",
     "output_type": "stream",
     "text": [
      "<class 'pandas.core.frame.DataFrame'>\n",
      "RangeIndex: 1586614 entries, 0 to 1586613\n",
      "Data columns (total 13 columns):\n",
      " #   Column              Non-Null Count    Dtype  \n",
      "---  ------              --------------    -----  \n",
      " 0   brewery_id          1586614 non-null  int64  \n",
      " 1   brewery_name        1586599 non-null  object \n",
      " 2   review_time         1586614 non-null  int64  \n",
      " 3   review_overall      1586614 non-null  float64\n",
      " 4   review_aroma        1586614 non-null  float64\n",
      " 5   review_appearance   1586614 non-null  float64\n",
      " 6   review_profilename  1586266 non-null  object \n",
      " 7   beer_style          1586614 non-null  object \n",
      " 8   review_palate       1586614 non-null  float64\n",
      " 9   review_taste        1586614 non-null  float64\n",
      " 10  beer_name           1586614 non-null  object \n",
      " 11  beer_abv            1518829 non-null  float64\n",
      " 12  beer_beerid         1586614 non-null  int64  \n",
      "dtypes: float64(6), int64(3), object(4)\n",
      "memory usage: 157.4+ MB\n"
     ]
    }
   ],
   "source": [
    "# Display the summary\n",
    "df.info()"
   ]
  },
  {
   "cell_type": "code",
   "execution_count": 6,
   "metadata": {},
   "outputs": [
    {
     "data": {
      "text/plain": [
       "(1586614, 13)"
      ]
     },
     "execution_count": 6,
     "metadata": {},
     "output_type": "execute_result"
    }
   ],
   "source": [
    "# Display the shape fo df\n",
    "df.shape"
   ]
  },
  {
   "cell_type": "code",
   "execution_count": 7,
   "metadata": {},
   "outputs": [
    {
     "data": {
      "text/html": [
       "<div>\n",
       "<style scoped>\n",
       "    .dataframe tbody tr th:only-of-type {\n",
       "        vertical-align: middle;\n",
       "    }\n",
       "\n",
       "    .dataframe tbody tr th {\n",
       "        vertical-align: top;\n",
       "    }\n",
       "\n",
       "    .dataframe thead th {\n",
       "        text-align: right;\n",
       "    }\n",
       "</style>\n",
       "<table border=\"1\" class=\"dataframe\">\n",
       "  <thead>\n",
       "    <tr style=\"text-align: right;\">\n",
       "      <th></th>\n",
       "      <th>brewery_id</th>\n",
       "      <th>review_time</th>\n",
       "      <th>review_overall</th>\n",
       "      <th>review_aroma</th>\n",
       "      <th>review_appearance</th>\n",
       "      <th>review_palate</th>\n",
       "      <th>review_taste</th>\n",
       "      <th>beer_abv</th>\n",
       "      <th>beer_beerid</th>\n",
       "    </tr>\n",
       "  </thead>\n",
       "  <tbody>\n",
       "    <tr>\n",
       "      <th>count</th>\n",
       "      <td>1.586614e+06</td>\n",
       "      <td>1.586614e+06</td>\n",
       "      <td>1.586614e+06</td>\n",
       "      <td>1.586614e+06</td>\n",
       "      <td>1.586614e+06</td>\n",
       "      <td>1.586614e+06</td>\n",
       "      <td>1.586614e+06</td>\n",
       "      <td>1.518829e+06</td>\n",
       "      <td>1.586614e+06</td>\n",
       "    </tr>\n",
       "    <tr>\n",
       "      <th>mean</th>\n",
       "      <td>3.130099e+03</td>\n",
       "      <td>1.224089e+09</td>\n",
       "      <td>3.815581e+00</td>\n",
       "      <td>3.735636e+00</td>\n",
       "      <td>3.841642e+00</td>\n",
       "      <td>3.743701e+00</td>\n",
       "      <td>3.792860e+00</td>\n",
       "      <td>7.042387e+00</td>\n",
       "      <td>2.171279e+04</td>\n",
       "    </tr>\n",
       "    <tr>\n",
       "      <th>std</th>\n",
       "      <td>5.578104e+03</td>\n",
       "      <td>7.654427e+07</td>\n",
       "      <td>7.206219e-01</td>\n",
       "      <td>6.976167e-01</td>\n",
       "      <td>6.160928e-01</td>\n",
       "      <td>6.822184e-01</td>\n",
       "      <td>7.319696e-01</td>\n",
       "      <td>2.322526e+00</td>\n",
       "      <td>2.181834e+04</td>\n",
       "    </tr>\n",
       "    <tr>\n",
       "      <th>min</th>\n",
       "      <td>1.000000e+00</td>\n",
       "      <td>8.406720e+08</td>\n",
       "      <td>0.000000e+00</td>\n",
       "      <td>1.000000e+00</td>\n",
       "      <td>0.000000e+00</td>\n",
       "      <td>1.000000e+00</td>\n",
       "      <td>1.000000e+00</td>\n",
       "      <td>1.000000e-02</td>\n",
       "      <td>3.000000e+00</td>\n",
       "    </tr>\n",
       "    <tr>\n",
       "      <th>25%</th>\n",
       "      <td>1.430000e+02</td>\n",
       "      <td>1.173224e+09</td>\n",
       "      <td>3.500000e+00</td>\n",
       "      <td>3.500000e+00</td>\n",
       "      <td>3.500000e+00</td>\n",
       "      <td>3.500000e+00</td>\n",
       "      <td>3.500000e+00</td>\n",
       "      <td>5.200000e+00</td>\n",
       "      <td>1.717000e+03</td>\n",
       "    </tr>\n",
       "    <tr>\n",
       "      <th>50%</th>\n",
       "      <td>4.290000e+02</td>\n",
       "      <td>1.239203e+09</td>\n",
       "      <td>4.000000e+00</td>\n",
       "      <td>4.000000e+00</td>\n",
       "      <td>4.000000e+00</td>\n",
       "      <td>4.000000e+00</td>\n",
       "      <td>4.000000e+00</td>\n",
       "      <td>6.500000e+00</td>\n",
       "      <td>1.390600e+04</td>\n",
       "    </tr>\n",
       "    <tr>\n",
       "      <th>75%</th>\n",
       "      <td>2.372000e+03</td>\n",
       "      <td>1.288568e+09</td>\n",
       "      <td>4.500000e+00</td>\n",
       "      <td>4.000000e+00</td>\n",
       "      <td>4.000000e+00</td>\n",
       "      <td>4.000000e+00</td>\n",
       "      <td>4.500000e+00</td>\n",
       "      <td>8.500000e+00</td>\n",
       "      <td>3.944100e+04</td>\n",
       "    </tr>\n",
       "    <tr>\n",
       "      <th>max</th>\n",
       "      <td>2.800300e+04</td>\n",
       "      <td>1.326285e+09</td>\n",
       "      <td>5.000000e+00</td>\n",
       "      <td>5.000000e+00</td>\n",
       "      <td>5.000000e+00</td>\n",
       "      <td>5.000000e+00</td>\n",
       "      <td>5.000000e+00</td>\n",
       "      <td>5.770000e+01</td>\n",
       "      <td>7.731700e+04</td>\n",
       "    </tr>\n",
       "  </tbody>\n",
       "</table>\n",
       "</div>"
      ],
      "text/plain": [
       "         brewery_id   review_time  review_overall  review_aroma  \\\n",
       "count  1.586614e+06  1.586614e+06    1.586614e+06  1.586614e+06   \n",
       "mean   3.130099e+03  1.224089e+09    3.815581e+00  3.735636e+00   \n",
       "std    5.578104e+03  7.654427e+07    7.206219e-01  6.976167e-01   \n",
       "min    1.000000e+00  8.406720e+08    0.000000e+00  1.000000e+00   \n",
       "25%    1.430000e+02  1.173224e+09    3.500000e+00  3.500000e+00   \n",
       "50%    4.290000e+02  1.239203e+09    4.000000e+00  4.000000e+00   \n",
       "75%    2.372000e+03  1.288568e+09    4.500000e+00  4.000000e+00   \n",
       "max    2.800300e+04  1.326285e+09    5.000000e+00  5.000000e+00   \n",
       "\n",
       "       review_appearance  review_palate  review_taste      beer_abv  \\\n",
       "count       1.586614e+06   1.586614e+06  1.586614e+06  1.518829e+06   \n",
       "mean        3.841642e+00   3.743701e+00  3.792860e+00  7.042387e+00   \n",
       "std         6.160928e-01   6.822184e-01  7.319696e-01  2.322526e+00   \n",
       "min         0.000000e+00   1.000000e+00  1.000000e+00  1.000000e-02   \n",
       "25%         3.500000e+00   3.500000e+00  3.500000e+00  5.200000e+00   \n",
       "50%         4.000000e+00   4.000000e+00  4.000000e+00  6.500000e+00   \n",
       "75%         4.000000e+00   4.000000e+00  4.500000e+00  8.500000e+00   \n",
       "max         5.000000e+00   5.000000e+00  5.000000e+00  5.770000e+01   \n",
       "\n",
       "        beer_beerid  \n",
       "count  1.586614e+06  \n",
       "mean   2.171279e+04  \n",
       "std    2.181834e+04  \n",
       "min    3.000000e+00  \n",
       "25%    1.717000e+03  \n",
       "50%    1.390600e+04  \n",
       "75%    3.944100e+04  \n",
       "max    7.731700e+04  "
      ]
     },
     "execution_count": 7,
     "metadata": {},
     "output_type": "execute_result"
    }
   ],
   "source": [
    "# Display the descriptive statistics of df\n",
    "df.describe()"
   ]
  },
  {
   "cell_type": "code",
   "execution_count": 8,
   "metadata": {},
   "outputs": [
    {
     "data": {
      "text/plain": [
       "Boston Beer Company (Samuel Adams)    39444\n",
       "Dogfish Head Brewery                  33839\n",
       "Stone Brewing Co.                     33066\n",
       "Sierra Nevada Brewing Co.             28751\n",
       "Bell's Brewery, Inc.                  25191\n",
       "                                      ...  \n",
       "Brauerei Stolz GmbH & Co. KG              1\n",
       "Hausbrauerei Düll                         1\n",
       "Browar Grybów                             1\n",
       "Staro&#269;eský Pivovárek Dobruka        1\n",
       "Spire Brewery                             1\n",
       "Name: brewery_name, Length: 5742, dtype: int64"
      ]
     },
     "execution_count": 8,
     "metadata": {},
     "output_type": "execute_result"
    }
   ],
   "source": [
    "# Count of records for unique values in brewery name\n",
    "df['brewery_name'].value_counts()"
   ]
  },
  {
   "cell_type": "code",
   "execution_count": 9,
   "metadata": {},
   "outputs": [
    {
     "data": {
      "text/plain": [
       "American IPA                        117586\n",
       "American Double / Imperial IPA       85977\n",
       "American Pale Ale (APA)              63469\n",
       "Russian Imperial Stout               54129\n",
       "American Double / Imperial Stout     50705\n",
       "                                     ...  \n",
       "Gose                                   686\n",
       "Faro                                   609\n",
       "Roggenbier                             466\n",
       "Kvass                                  297\n",
       "Happoshu                               241\n",
       "Name: beer_style, Length: 104, dtype: int64"
      ]
     },
     "execution_count": 9,
     "metadata": {},
     "output_type": "execute_result"
    }
   ],
   "source": [
    "# Count of records for unique values in target variable\n",
    "df['beer_style'].value_counts()"
   ]
  },
  {
   "cell_type": "markdown",
   "metadata": {},
   "source": [
    "# Prepare Data"
   ]
  },
  {
   "cell_type": "code",
   "execution_count": 42,
   "metadata": {},
   "outputs": [],
   "source": [
    "# Create a copy of df and save it into a variable called df_cleaned\n",
    "df_cleaned=df.copy()"
   ]
  },
  {
   "cell_type": "code",
   "execution_count": 43,
   "metadata": {},
   "outputs": [],
   "source": [
    "# Remove the columns of brewery_id, beer_beerid, review_time, review_profilename, beer_name\n",
    "df_cleaned.drop(['brewery_id','beer_beerid','review_time','review_profilename','beer_name','review_overall','beer_abv'], axis=1,inplace=True)"
   ]
  },
  {
   "cell_type": "code",
   "execution_count": 44,
   "metadata": {},
   "outputs": [
    {
     "name": "stdout",
     "output_type": "stream",
     "text": [
      "<class 'pandas.core.frame.DataFrame'>\n",
      "RangeIndex: 1586614 entries, 0 to 1586613\n",
      "Data columns (total 6 columns):\n",
      " #   Column             Non-Null Count    Dtype  \n",
      "---  ------             --------------    -----  \n",
      " 0   brewery_name       1586599 non-null  object \n",
      " 1   review_aroma       1586614 non-null  float64\n",
      " 2   review_appearance  1586614 non-null  float64\n",
      " 3   beer_style         1586614 non-null  object \n",
      " 4   review_palate      1586614 non-null  float64\n",
      " 5   review_taste       1586614 non-null  float64\n",
      "dtypes: float64(4), object(2)\n",
      "memory usage: 72.6+ MB\n"
     ]
    }
   ],
   "source": [
    "# Display the data summary\n",
    "df_cleaned.info()"
   ]
  },
  {
   "cell_type": "code",
   "execution_count": 45,
   "metadata": {},
   "outputs": [],
   "source": [
    "# Drop the rows where brewery_name is missing\n",
    "df_cleaned.dropna(subset=['brewery_name'],inplace=True)"
   ]
  },
  {
   "cell_type": "code",
   "execution_count": 14,
   "metadata": {},
   "outputs": [
    {
     "data": {
      "text/plain": [
       "[93, 100, 100, 101, 102]"
      ]
     },
     "execution_count": 14,
     "metadata": {},
     "output_type": "execute_result"
    }
   ],
   "source": [
    "# Display the total beer style for top 10,20,30,40 and 50 brewery names\n",
    "top_brewery=[10,20,30,40,50]\n",
    "beer_style=[]\n",
    "for i in top_brewery:\n",
    "    y=len(df_cleaned[df_cleaned['brewery_name'].isin(df_cleaned['brewery_name'].value_counts().nlargest(n=i).index)]['beer_style'].unique())\n",
    "    beer_style.append(y)\n",
    "beer_style"
   ]
  },
  {
   "cell_type": "code",
   "execution_count": 46,
   "metadata": {},
   "outputs": [
    {
     "data": {
      "text/html": [
       "<div>\n",
       "<style scoped>\n",
       "    .dataframe tbody tr th:only-of-type {\n",
       "        vertical-align: middle;\n",
       "    }\n",
       "\n",
       "    .dataframe tbody tr th {\n",
       "        vertical-align: top;\n",
       "    }\n",
       "\n",
       "    .dataframe thead th {\n",
       "        text-align: right;\n",
       "    }\n",
       "</style>\n",
       "<table border=\"1\" class=\"dataframe\">\n",
       "  <thead>\n",
       "    <tr style=\"text-align: right;\">\n",
       "      <th></th>\n",
       "      <th>beer_style</th>\n",
       "    </tr>\n",
       "    <tr>\n",
       "      <th>brewery_name</th>\n",
       "      <th></th>\n",
       "    </tr>\n",
       "  </thead>\n",
       "  <tbody>\n",
       "    <tr>\n",
       "      <th>Avery Brewing Company</th>\n",
       "      <td>42</td>\n",
       "    </tr>\n",
       "    <tr>\n",
       "      <th>Bell's Brewery, Inc.</th>\n",
       "      <td>40</td>\n",
       "    </tr>\n",
       "    <tr>\n",
       "      <th>Boston Beer Company (Samuel Adams)</th>\n",
       "      <td>57</td>\n",
       "    </tr>\n",
       "    <tr>\n",
       "      <th>Dogfish Head Brewery</th>\n",
       "      <td>53</td>\n",
       "    </tr>\n",
       "    <tr>\n",
       "      <th>Founders Brewing Company</th>\n",
       "      <td>38</td>\n",
       "    </tr>\n",
       "    <tr>\n",
       "      <th>Lagunitas Brewing Company</th>\n",
       "      <td>31</td>\n",
       "    </tr>\n",
       "    <tr>\n",
       "      <th>Rogue Ales</th>\n",
       "      <td>47</td>\n",
       "    </tr>\n",
       "    <tr>\n",
       "      <th>Sierra Nevada Brewing Co.</th>\n",
       "      <td>51</td>\n",
       "    </tr>\n",
       "    <tr>\n",
       "      <th>Stone Brewing Co.</th>\n",
       "      <td>30</td>\n",
       "    </tr>\n",
       "    <tr>\n",
       "      <th>Victory Brewing Company</th>\n",
       "      <td>48</td>\n",
       "    </tr>\n",
       "  </tbody>\n",
       "</table>\n",
       "</div>"
      ],
      "text/plain": [
       "                                    beer_style\n",
       "brewery_name                                  \n",
       "Avery Brewing Company                       42\n",
       "Bell's Brewery, Inc.                        40\n",
       "Boston Beer Company (Samuel Adams)          57\n",
       "Dogfish Head Brewery                        53\n",
       "Founders Brewing Company                    38\n",
       "Lagunitas Brewing Company                   31\n",
       "Rogue Ales                                  47\n",
       "Sierra Nevada Brewing Co.                   51\n",
       "Stone Brewing Co.                           30\n",
       "Victory Brewing Company                     48"
      ]
     },
     "execution_count": 46,
     "metadata": {},
     "output_type": "execute_result"
    }
   ],
   "source": [
    "# Display number of beer style for top 10 brewery names\n",
    "df_cleaned[df_cleaned['brewery_name'].isin(df_cleaned['brewery_name'].value_counts().nlargest(n=10).index)].groupby('brewery_name').nunique()[['beer_style']]"
   ]
  },
  {
   "cell_type": "code",
   "execution_count": 143,
   "metadata": {},
   "outputs": [
    {
     "data": {
      "image/png": "[encoded data removed]",
      "text/plain": [
       "<Figure size 432x288 with 1 Axes>"
      ]
     },
     "metadata": {
      "needs_background": "light"
     },
     "output_type": "display_data"
    }
   ],
   "source": [
    "import seaborn as sns\n",
    "import matplotlib.pyplot as plt\n",
    "top10=df_cleaned[df_cleaned['brewery_name'].isin(df_cleaned['brewery_name'].value_counts().nlargest(n=10).index)].groupby('brewery_name').nunique()[['beer_style']]\n",
    "splot=sns.barplot(data=top10.reset_index(), x='brewery_name',y='beer_style',palette ='Set2')\n",
    "plt.xticks(rotation = 90,size=8)\n",
    "plt.xlabel(\"\")\n",
    "plt.ylabel(\"number of beer styles\")\n",
    "for g in splot.patches:\n",
    "    splot.annotate(format(g.get_height(), '.0f'),\n",
    "                   (g.get_x() + g.get_width() / 2., g.get_height()),\n",
    "                   ha = 'center', va = 'center',\n",
    "                   xytext = (0, -13),\n",
    "                   textcoords = 'offset points')"
   ]
  },
  {
   "cell_type": "code",
   "execution_count": 271,
   "metadata": {},
   "outputs": [
    {
     "data": {
      "text/plain": [
       "[0.360293306626312,\n",
       " 0.538574019018038,\n",
       " 0.6687518396267741,\n",
       " 0.7682615456079325,\n",
       " 0.8425323600985504]"
      ]
     },
     "execution_count": 271,
     "metadata": {},
     "output_type": "execute_result"
    }
   ],
   "source": [
    "# Display the total number of records for top 10,20,30,40 and 50 beer styles\n",
    "top_style=[10,20,30,40,50]\n",
    "records=[]\n",
    "for i in top_style:\n",
    "    y=df_cleaned['beer_style'].value_counts(normalize=True).nlargest(n=i).sum()\n",
    "    records.append(y)\n",
    "records"
   ]
  },
  {
   "cell_type": "code",
   "execution_count": 93,
   "metadata": {},
   "outputs": [],
   "source": [
    "d=pd.DataFrame({'beer_style':['top10','top20','top30','top40','top50'],\n",
    "'records(%)':records\n",
    "})"
   ]
  },
  {
   "cell_type": "code",
   "execution_count": 94,
   "metadata": {},
   "outputs": [
    {
     "data": {
      "text/plain": [
       "<AxesSubplot:xlabel='beer_style', ylabel='records(%)'>"
      ]
     },
     "execution_count": 94,
     "metadata": {},
     "output_type": "execute_result"
    },
    {
     "data": {
      "image/png": "[encoded data removed]",
      "text/plain": [
       "<Figure size 432x288 with 1 Axes>"
      ]
     },
     "metadata": {
      "needs_background": "light"
     },
     "output_type": "display_data"
    }
   ],
   "source": [
    "import seaborn as sns\n",
    "sns.barplot(data=d, x='beer_style',y='records(%)')"
   ]
  },
  {
   "cell_type": "code",
   "execution_count": 47,
   "metadata": {},
   "outputs": [],
   "source": [
    "# Extract the records for top 20 beer styles\n",
    "df_cleaned=df_cleaned[df_cleaned['beer_style'].isin(df_cleaned['beer_style'].value_counts().nlargest(n=20).index)]"
   ]
  },
  {
   "cell_type": "code",
   "execution_count": 48,
   "metadata": {},
   "outputs": [],
   "source": [
    "# Drop the brewery_name column\n",
    "df_cleaned.drop('brewery_name',axis=1,inplace=True)"
   ]
  },
  {
   "cell_type": "code",
   "execution_count": 49,
   "metadata": {},
   "outputs": [
    {
     "name": "stdout",
     "output_type": "stream",
     "text": [
      "<class 'pandas.core.frame.DataFrame'>\n",
      "Int64Index: 854501 entries, 0 to 1586599\n",
      "Data columns (total 5 columns):\n",
      " #   Column             Non-Null Count   Dtype  \n",
      "---  ------             --------------   -----  \n",
      " 0   review_aroma       854501 non-null  float64\n",
      " 1   review_appearance  854501 non-null  float64\n",
      " 2   beer_style         854501 non-null  object \n",
      " 3   review_palate      854501 non-null  float64\n",
      " 4   review_taste       854501 non-null  float64\n",
      "dtypes: float64(4), object(1)\n",
      "memory usage: 39.1+ MB\n"
     ]
    }
   ],
   "source": [
    "df_cleaned.info()"
   ]
  },
  {
   "cell_type": "code",
   "execution_count": 147,
   "metadata": {},
   "outputs": [],
   "source": [
    "# Stratified sampling 1% data using the 'beer_style' as the stratifying column\n",
    "# df_cleaned=df_cleaned.groupby('beer_style', group_keys=False).apply(lambda x: x.sample(frac=0.2))"
   ]
  },
  {
   "cell_type": "code",
   "execution_count": 50,
   "metadata": {},
   "outputs": [],
   "source": [
    "# Reset the indexes of the dataframe\n",
    "df_cleaned.reset_index(drop=True,inplace=True)"
   ]
  },
  {
   "cell_type": "code",
   "execution_count": 51,
   "metadata": {},
   "outputs": [
    {
     "name": "stdout",
     "output_type": "stream",
     "text": [
      "<class 'pandas.core.frame.DataFrame'>\n",
      "RangeIndex: 854501 entries, 0 to 854500\n",
      "Data columns (total 5 columns):\n",
      " #   Column             Non-Null Count   Dtype  \n",
      "---  ------             --------------   -----  \n",
      " 0   review_aroma       854501 non-null  float64\n",
      " 1   review_appearance  854501 non-null  float64\n",
      " 2   beer_style         854501 non-null  object \n",
      " 3   review_palate      854501 non-null  float64\n",
      " 4   review_taste       854501 non-null  float64\n",
      "dtypes: float64(4), object(1)\n",
      "memory usage: 32.6+ MB\n"
     ]
    }
   ],
   "source": [
    "df_cleaned.info()"
   ]
  },
  {
   "cell_type": "code",
   "execution_count": 52,
   "metadata": {},
   "outputs": [
    {
     "data": {
      "text/html": [
       "<div>\n",
       "<style scoped>\n",
       "    .dataframe tbody tr th:only-of-type {\n",
       "        vertical-align: middle;\n",
       "    }\n",
       "\n",
       "    .dataframe tbody tr th {\n",
       "        vertical-align: top;\n",
       "    }\n",
       "\n",
       "    .dataframe thead th {\n",
       "        text-align: right;\n",
       "    }\n",
       "</style>\n",
       "<table border=\"1\" class=\"dataframe\">\n",
       "  <thead>\n",
       "    <tr style=\"text-align: right;\">\n",
       "      <th></th>\n",
       "      <th>review_aroma</th>\n",
       "      <th>review_appearance</th>\n",
       "      <th>beer_style</th>\n",
       "      <th>review_palate</th>\n",
       "      <th>review_taste</th>\n",
       "    </tr>\n",
       "  </thead>\n",
       "  <tbody>\n",
       "    <tr>\n",
       "      <th>0</th>\n",
       "      <td>2.0</td>\n",
       "      <td>2.5</td>\n",
       "      <td>Hefeweizen</td>\n",
       "      <td>1.5</td>\n",
       "      <td>1.5</td>\n",
       "    </tr>\n",
       "    <tr>\n",
       "      <th>1</th>\n",
       "      <td>4.5</td>\n",
       "      <td>4.0</td>\n",
       "      <td>American Double / Imperial IPA</td>\n",
       "      <td>4.0</td>\n",
       "      <td>4.5</td>\n",
       "    </tr>\n",
       "    <tr>\n",
       "      <th>2</th>\n",
       "      <td>3.5</td>\n",
       "      <td>3.5</td>\n",
       "      <td>American Pale Ale (APA)</td>\n",
       "      <td>4.0</td>\n",
       "      <td>4.0</td>\n",
       "    </tr>\n",
       "    <tr>\n",
       "      <th>3</th>\n",
       "      <td>3.0</td>\n",
       "      <td>3.5</td>\n",
       "      <td>American Pale Ale (APA)</td>\n",
       "      <td>3.5</td>\n",
       "      <td>2.5</td>\n",
       "    </tr>\n",
       "    <tr>\n",
       "      <th>4</th>\n",
       "      <td>3.5</td>\n",
       "      <td>4.0</td>\n",
       "      <td>American Pale Ale (APA)</td>\n",
       "      <td>4.0</td>\n",
       "      <td>3.5</td>\n",
       "    </tr>\n",
       "  </tbody>\n",
       "</table>\n",
       "</div>"
      ],
      "text/plain": [
       "   review_aroma  review_appearance                      beer_style  \\\n",
       "0           2.0                2.5                      Hefeweizen   \n",
       "1           4.5                4.0  American Double / Imperial IPA   \n",
       "2           3.5                3.5         American Pale Ale (APA)   \n",
       "3           3.0                3.5         American Pale Ale (APA)   \n",
       "4           3.5                4.0         American Pale Ale (APA)   \n",
       "\n",
       "   review_palate  review_taste  \n",
       "0            1.5           1.5  \n",
       "1            4.0           4.5  \n",
       "2            4.0           4.0  \n",
       "3            3.5           2.5  \n",
       "4            4.0           3.5  "
      ]
     },
     "execution_count": 52,
     "metadata": {},
     "output_type": "execute_result"
    }
   ],
   "source": [
    "df_cleaned.head()"
   ]
  },
  {
   "cell_type": "code",
   "execution_count": 53,
   "metadata": {},
   "outputs": [],
   "source": [
    "# Import StandardScaler, OneHotEncoder and OrdinalEncoder from sklearn.preprocessing\n",
    "from sklearn.preprocessing import StandardScaler, LabelEncoder"
   ]
  },
  {
   "cell_type": "code",
   "execution_count": 54,
   "metadata": {},
   "outputs": [],
   "source": [
    "# Create a list called num_cols\n",
    "num_cols=['review_aroma','review_appearance','review_palate','review_taste']"
   ]
  },
  {
   "cell_type": "code",
   "execution_count": 55,
   "metadata": {},
   "outputs": [],
   "source": [
    "# Instantiate a StandardScaler and called it sc\n",
    "sc=StandardScaler()"
   ]
  },
  {
   "cell_type": "code",
   "execution_count": 56,
   "metadata": {},
   "outputs": [],
   "source": [
    "# Fit the model with numeric columns\n",
    "sc_model=sc.fit(df_cleaned[num_cols])"
   ]
  },
  {
   "cell_type": "code",
   "execution_count": 57,
   "metadata": {},
   "outputs": [
    {
     "data": {
      "text/plain": [
       "['../models/sc_model.joblib']"
      ]
     },
     "execution_count": 57,
     "metadata": {},
     "output_type": "execute_result"
    }
   ],
   "source": [
    "# Save the model\n",
    "from joblib import dump\n",
    "dump(sc_model,\"../models/sc_model.joblib\")"
   ]
  },
  {
   "cell_type": "code",
   "execution_count": 58,
   "metadata": {},
   "outputs": [],
   "source": [
    "# Transform the numeric feature of df_cleaned and replace the data into it\n",
    "df_cleaned[num_cols]=sc_model.transform(df_cleaned[num_cols])"
   ]
  },
  {
   "cell_type": "code",
   "execution_count": 59,
   "metadata": {},
   "outputs": [
    {
     "data": {
      "text/html": [
       "<div>\n",
       "<style scoped>\n",
       "    .dataframe tbody tr th:only-of-type {\n",
       "        vertical-align: middle;\n",
       "    }\n",
       "\n",
       "    .dataframe tbody tr th {\n",
       "        vertical-align: top;\n",
       "    }\n",
       "\n",
       "    .dataframe thead th {\n",
       "        text-align: right;\n",
       "    }\n",
       "</style>\n",
       "<table border=\"1\" class=\"dataframe\">\n",
       "  <thead>\n",
       "    <tr style=\"text-align: right;\">\n",
       "      <th></th>\n",
       "      <th>review_aroma</th>\n",
       "      <th>review_appearance</th>\n",
       "      <th>review_palate</th>\n",
       "      <th>review_taste</th>\n",
       "    </tr>\n",
       "  </thead>\n",
       "  <tbody>\n",
       "    <tr>\n",
       "      <th>count</th>\n",
       "      <td>8.545010e+05</td>\n",
       "      <td>8.545010e+05</td>\n",
       "      <td>8.545010e+05</td>\n",
       "      <td>8.545010e+05</td>\n",
       "    </tr>\n",
       "    <tr>\n",
       "      <th>mean</th>\n",
       "      <td>-1.311821e-16</td>\n",
       "      <td>-3.447188e-16</td>\n",
       "      <td>-4.390475e-18</td>\n",
       "      <td>7.743202e-17</td>\n",
       "    </tr>\n",
       "    <tr>\n",
       "      <th>std</th>\n",
       "      <td>1.000001e+00</td>\n",
       "      <td>1.000001e+00</td>\n",
       "      <td>1.000001e+00</td>\n",
       "      <td>1.000001e+00</td>\n",
       "    </tr>\n",
       "    <tr>\n",
       "      <th>min</th>\n",
       "      <td>-4.171960e+00</td>\n",
       "      <td>-6.492488e+00</td>\n",
       "      <td>-4.230976e+00</td>\n",
       "      <td>-3.999582e+00</td>\n",
       "    </tr>\n",
       "    <tr>\n",
       "      <th>25%</th>\n",
       "      <td>-4.784830e-01</td>\n",
       "      <td>-6.674171e-01</td>\n",
       "      <td>-4.624358e-01</td>\n",
       "      <td>-5.055186e-01</td>\n",
       "    </tr>\n",
       "    <tr>\n",
       "      <th>50%</th>\n",
       "      <td>2.602124e-01</td>\n",
       "      <td>1.647359e-01</td>\n",
       "      <td>2.912723e-01</td>\n",
       "      <td>1.932941e-01</td>\n",
       "    </tr>\n",
       "    <tr>\n",
       "      <th>75%</th>\n",
       "      <td>9.989079e-01</td>\n",
       "      <td>9.968889e-01</td>\n",
       "      <td>2.912723e-01</td>\n",
       "      <td>8.921067e-01</td>\n",
       "    </tr>\n",
       "    <tr>\n",
       "      <th>max</th>\n",
       "      <td>1.737603e+00</td>\n",
       "      <td>1.829042e+00</td>\n",
       "      <td>1.798689e+00</td>\n",
       "      <td>1.590919e+00</td>\n",
       "    </tr>\n",
       "  </tbody>\n",
       "</table>\n",
       "</div>"
      ],
      "text/plain": [
       "       review_aroma  review_appearance  review_palate  review_taste\n",
       "count  8.545010e+05       8.545010e+05   8.545010e+05  8.545010e+05\n",
       "mean  -1.311821e-16      -3.447188e-16  -4.390475e-18  7.743202e-17\n",
       "std    1.000001e+00       1.000001e+00   1.000001e+00  1.000001e+00\n",
       "min   -4.171960e+00      -6.492488e+00  -4.230976e+00 -3.999582e+00\n",
       "25%   -4.784830e-01      -6.674171e-01  -4.624358e-01 -5.055186e-01\n",
       "50%    2.602124e-01       1.647359e-01   2.912723e-01  1.932941e-01\n",
       "75%    9.989079e-01       9.968889e-01   2.912723e-01  8.921067e-01\n",
       "max    1.737603e+00       1.829042e+00   1.798689e+00  1.590919e+00"
      ]
     },
     "execution_count": 59,
     "metadata": {},
     "output_type": "execute_result"
    }
   ],
   "source": [
    "df_cleaned.describe()"
   ]
  },
  {
   "cell_type": "code",
   "execution_count": 60,
   "metadata": {},
   "outputs": [],
   "source": [
    "# Instantiate a OrdinalEncoder and called it oe\n",
    "le=LabelEncoder()"
   ]
  },
  {
   "cell_type": "code",
   "execution_count": 20,
   "metadata": {},
   "outputs": [],
   "source": [
    "# cat_cols=['beer_style','brewery_name']\n",
    "# for i in range(0,2):\n",
    "#     df_cleaned[cat_cols[i]]=le.fit_transform(df_cleaned[cat_cols[i]])"
   ]
  },
  {
   "cell_type": "code",
   "execution_count": 61,
   "metadata": {},
   "outputs": [],
   "source": [
    "# Fit the model\n",
    "le_model=le.fit(df_cleaned['beer_style'])"
   ]
  },
  {
   "cell_type": "code",
   "execution_count": 62,
   "metadata": {},
   "outputs": [
    {
     "data": {
      "text/plain": [
       "['../models/le_model.joblib']"
      ]
     },
     "execution_count": 62,
     "metadata": {},
     "output_type": "execute_result"
    }
   ],
   "source": [
    "# Save the model\n",
    "dump(le_model,\"../models/le_model.joblib\")"
   ]
  },
  {
   "cell_type": "code",
   "execution_count": 63,
   "metadata": {},
   "outputs": [],
   "source": [
    "# Transform the target variable and replace the data into it\n",
    "df_cleaned['beer_style']=le_model.transform(df_cleaned['beer_style'])"
   ]
  },
  {
   "cell_type": "code",
   "execution_count": 64,
   "metadata": {},
   "outputs": [
    {
     "data": {
      "text/plain": [
       "6     117584\n",
       "4      85977\n",
       "7      63469\n",
       "16     54129\n",
       "5      50705\n",
       "9      50477\n",
       "1      45751\n",
       "12     37743\n",
       "14     33861\n",
       "11     31945\n",
       "13     31490\n",
       "17     31480\n",
       "0      30748\n",
       "18     30328\n",
       "19     30140\n",
       "15     27908\n",
       "2      26728\n",
       "3      25297\n",
       "10     24537\n",
       "8      24204\n",
       "Name: beer_style, dtype: int64"
      ]
     },
     "execution_count": 64,
     "metadata": {},
     "output_type": "execute_result"
    }
   ],
   "source": [
    "df_cleaned['beer_style'].value_counts()"
   ]
  },
  {
   "cell_type": "code",
   "execution_count": 65,
   "metadata": {},
   "outputs": [
    {
     "data": {
      "text/plain": [
       "<AxesSubplot:>"
      ]
     },
     "execution_count": 65,
     "metadata": {},
     "output_type": "execute_result"
    },
    {
     "data": {
      "image/png": "[encoded data removed]",
      "text/plain": [
       "<Figure size 432x288 with 1 Axes>"
      ]
     },
     "metadata": {
      "needs_background": "light"
     },
     "output_type": "display_data"
    }
   ],
   "source": [
    "df_cleaned['beer_style'].value_counts(normalize=True).plot.bar()"
   ]
  },
  {
   "cell_type": "code",
   "execution_count": 66,
   "metadata": {},
   "outputs": [],
   "source": [
    "import matplotlib.pyplot as plt\n",
    "import seaborn as sns"
   ]
  },
  {
   "cell_type": "code",
   "execution_count": 67,
   "metadata": {},
   "outputs": [
    {
     "data": {
      "text/plain": [
       "<AxesSubplot:>"
      ]
     },
     "execution_count": 67,
     "metadata": {},
     "output_type": "execute_result"
    },
    {
     "data": {
      "image/png": "[encoded data removed]",
      "text/plain": [
       "<Figure size 432x432 with 2 Axes>"
      ]
     },
     "metadata": {
      "needs_background": "light"
     },
     "output_type": "display_data"
    }
   ],
   "source": [
    "# Plot the correlation matrix\n",
    "matrix = df_cleaned.corr()\n",
    "plt.figure(figsize = (6,6))\n",
    "sns.heatmap(matrix,annot=True)"
   ]
  },
  {
   "cell_type": "code",
   "execution_count": 68,
   "metadata": {},
   "outputs": [],
   "source": [
    "%load_ext autoreload\n",
    "%autoreload 2"
   ]
  },
  {
   "cell_type": "code",
   "execution_count": 69,
   "metadata": {},
   "outputs": [],
   "source": [
    "# Import split_sets_by_time and save_sets from src.data.sets\n",
    "import sys\n",
    "sys.path.insert(1, '..')\n",
    "from src.data.sets import split_sets_random, save_sets"
   ]
  },
  {
   "cell_type": "code",
   "execution_count": 70,
   "metadata": {},
   "outputs": [],
   "source": [
    "# Split the data into training and testing sets with 80-20 ratio\n",
    "X_train, y_train, X_val, y_val, X_test, y_test = split_sets_random(df_cleaned, target_col='beer_style', test_ratio=0.2)"
   ]
  },
  {
   "cell_type": "code",
   "execution_count": 71,
   "metadata": {},
   "outputs": [],
   "source": [
    "# Save the sets in the data/processed folder\n",
    "save_sets(X_train=X_train, y_train=y_train, X_val=X_val, y_val=y_val, X_test=X_test, y_test=y_test, path='../data/processed/')"
   ]
  },
  {
   "cell_type": "code",
   "execution_count": 161,
   "metadata": {},
   "outputs": [],
   "source": [
    "# Import the function load_sets from sets and load the sets from data/processed\n",
    "# from src.data.sets import load_sets\n",
    "# X_train, y_train, X_val, y_val, X_test, y_test = load_sets(path='../data/processed/')"
   ]
  },
  {
   "cell_type": "code",
   "execution_count": 72,
   "metadata": {},
   "outputs": [],
   "source": [
    "# Import from src/models/pytorch and convert all sets to PytorchDataset\n",
    "from src.models.pytorch import PytorchDataset\n",
    "\n",
    "train_dataset = PytorchDataset(X=X_train, y=y_train)\n",
    "val_dataset = PytorchDataset(X=X_val, y=y_val)\n",
    "test_dataset = PytorchDataset(X=X_test, y=y_test)"
   ]
  },
  {
   "attachments": {},
   "cell_type": "markdown",
   "metadata": {},
   "source": [
    "# Baseline Model"
   ]
  },
  {
   "cell_type": "code",
   "execution_count": 73,
   "metadata": {},
   "outputs": [],
   "source": [
    "# Import NullModel from src.models.null\n",
    "from src.models.null import NullModel"
   ]
  },
  {
   "cell_type": "code",
   "execution_count": 74,
   "metadata": {},
   "outputs": [],
   "source": [
    "# Instantiate a NullModel and call .fit_predict() on the training target to extract your predictions into a variable called y_base\n",
    "baseline_model=NullModel(target_type='classification')\n",
    "y_base=baseline_model.fit_predict(y_train)"
   ]
  },
  {
   "cell_type": "code",
   "execution_count": 75,
   "metadata": {},
   "outputs": [
    {
     "name": "stdout",
     "output_type": "stream",
     "text": [
      "Accuracy Training: 0.1376965086795397\n",
      "F1 Training: 0.033331083215752746\n"
     ]
    }
   ],
   "source": [
    "# Display the accuracy and F1 scores of the baseline model on the training set\n",
    "from src.models.performance import print_class_perf\n",
    "\n",
    "print_class_perf(y_preds=y_base, y_actuals=y_train, set_name='Training', average='weighted')"
   ]
  },
  {
   "attachments": {},
   "cell_type": "markdown",
   "metadata": {},
   "source": [
    "# Define Architecture"
   ]
  },
  {
   "cell_type": "code",
   "execution_count": 76,
   "metadata": {},
   "outputs": [],
   "source": [
    "import torch\n",
    "import torch.nn as nn\n",
    "import torch.nn.functional as F"
   ]
  },
  {
   "cell_type": "code",
   "execution_count": 77,
   "metadata": {},
   "outputs": [],
   "source": [
    "# Instantiate PytorchMultiClass with the correct number of input feature and save it into a variable called model\n",
    "from src.models.pytorch import PytorchMultiClass\n",
    "\n",
    "model = PytorchMultiClass(X_train.shape[1])"
   ]
  },
  {
   "cell_type": "code",
   "execution_count": 78,
   "metadata": {},
   "outputs": [
    {
     "data": {
      "text/plain": [
       "<bound method Module.state_dict of PytorchMultiClass(\n",
       "  (layer_1): Linear(in_features=4, out_features=50, bias=True)\n",
       "  (layer_out): Linear(in_features=50, out_features=20, bias=True)\n",
       "  (dropout1): Dropout(p=0.25, inplace=False)\n",
       ")>"
      ]
     },
     "execution_count": 78,
     "metadata": {},
     "output_type": "execute_result"
    }
   ],
   "source": [
    "model.state_dict"
   ]
  },
  {
   "cell_type": "code",
   "execution_count": 79,
   "metadata": {},
   "outputs": [
    {
     "data": {
      "text/plain": [
       "PytorchMultiClass(\n",
       "  (layer_1): Linear(in_features=4, out_features=50, bias=True)\n",
       "  (layer_out): Linear(in_features=50, out_features=20, bias=True)\n",
       "  (dropout1): Dropout(p=0.25, inplace=False)\n",
       ")"
      ]
     },
     "execution_count": 79,
     "metadata": {},
     "output_type": "execute_result"
    }
   ],
   "source": [
    "# Import get_device() from src.models.pytorch and set model to use the device available\n",
    "from src.models.pytorch import get_device\n",
    "\n",
    "device=get_device()\n",
    "model.to(device)"
   ]
  },
  {
   "attachments": {},
   "cell_type": "markdown",
   "metadata": {},
   "source": [
    "# Train Model"
   ]
  },
  {
   "cell_type": "code",
   "execution_count": 80,
   "metadata": {},
   "outputs": [],
   "source": [
    "# Instantiate a nn.CrossEntropyLoss() and save it into a variable called criterion\n",
    "criterion=nn.CrossEntropyLoss()"
   ]
  },
  {
   "cell_type": "code",
   "execution_count": 81,
   "metadata": {},
   "outputs": [],
   "source": [
    "# Instantiate a torch.optim.Adam() optimizer with the model's parameters and 0.01 as learning rate and save it into a variable called optimizer\n",
    "optimizer=torch.optim.Adam(model.parameters(),lr=0.01)"
   ]
  },
  {
   "cell_type": "code",
   "execution_count": 82,
   "metadata": {},
   "outputs": [],
   "source": [
    "# Create 2 variables called N_EPOCHS and BATCH_SIZE that will take respectively 50 and 32 as values\n",
    "N_EPOCHS = 20\n",
    "BATCH_SIZE = 500"
   ]
  },
  {
   "cell_type": "code",
   "execution_count": 83,
   "metadata": {},
   "outputs": [
    {
     "name": "stdout",
     "output_type": "stream",
     "text": [
      "Epoch: 0\n",
      "\t(train)\t|\tLoss: 0.0055\t|\tAcc: 16.6%\n",
      "\t(valid)\t|\tLoss: 0.0055\t|\tAcc: 17.0%\n",
      "Epoch: 1\n",
      "\t(train)\t|\tLoss: 0.0055\t|\tAcc: 16.8%\n",
      "\t(valid)\t|\tLoss: 0.0055\t|\tAcc: 17.0%\n",
      "Epoch: 2\n",
      "\t(train)\t|\tLoss: 0.0055\t|\tAcc: 16.7%\n",
      "\t(valid)\t|\tLoss: 0.0055\t|\tAcc: 16.9%\n",
      "Epoch: 3\n",
      "\t(train)\t|\tLoss: 0.0055\t|\tAcc: 16.7%\n",
      "\t(valid)\t|\tLoss: 0.0055\t|\tAcc: 17.0%\n",
      "Epoch: 4\n",
      "\t(train)\t|\tLoss: 0.0055\t|\tAcc: 16.8%\n",
      "\t(valid)\t|\tLoss: 0.0055\t|\tAcc: 16.9%\n",
      "Epoch: 5\n",
      "\t(train)\t|\tLoss: 0.0055\t|\tAcc: 16.7%\n",
      "\t(valid)\t|\tLoss: 0.0055\t|\tAcc: 17.0%\n",
      "Epoch: 6\n",
      "\t(train)\t|\tLoss: 0.0055\t|\tAcc: 16.7%\n",
      "\t(valid)\t|\tLoss: 0.0055\t|\tAcc: 17.0%\n",
      "Epoch: 7\n",
      "\t(train)\t|\tLoss: 0.0055\t|\tAcc: 16.8%\n",
      "\t(valid)\t|\tLoss: 0.0055\t|\tAcc: 17.0%\n",
      "Epoch: 8\n",
      "\t(train)\t|\tLoss: 0.0055\t|\tAcc: 16.8%\n",
      "\t(valid)\t|\tLoss: 0.0055\t|\tAcc: 17.0%\n",
      "Epoch: 9\n",
      "\t(train)\t|\tLoss: 0.0055\t|\tAcc: 16.7%\n",
      "\t(valid)\t|\tLoss: 0.0055\t|\tAcc: 17.1%\n",
      "Epoch: 10\n",
      "\t(train)\t|\tLoss: 0.0055\t|\tAcc: 16.7%\n",
      "\t(valid)\t|\tLoss: 0.0055\t|\tAcc: 17.0%\n",
      "Epoch: 11\n",
      "\t(train)\t|\tLoss: 0.0055\t|\tAcc: 16.8%\n",
      "\t(valid)\t|\tLoss: 0.0055\t|\tAcc: 17.0%\n",
      "Epoch: 12\n",
      "\t(train)\t|\tLoss: 0.0055\t|\tAcc: 16.8%\n",
      "\t(valid)\t|\tLoss: 0.0055\t|\tAcc: 17.0%\n",
      "Epoch: 13\n",
      "\t(train)\t|\tLoss: 0.0055\t|\tAcc: 16.8%\n",
      "\t(valid)\t|\tLoss: 0.0055\t|\tAcc: 16.9%\n",
      "Epoch: 14\n",
      "\t(train)\t|\tLoss: 0.0055\t|\tAcc: 16.7%\n",
      "\t(valid)\t|\tLoss: 0.0055\t|\tAcc: 16.6%\n",
      "Epoch: 15\n",
      "\t(train)\t|\tLoss: 0.0055\t|\tAcc: 16.7%\n",
      "\t(valid)\t|\tLoss: 0.0055\t|\tAcc: 17.0%\n",
      "Epoch: 16\n",
      "\t(train)\t|\tLoss: 0.0055\t|\tAcc: 16.7%\n",
      "\t(valid)\t|\tLoss: 0.0055\t|\tAcc: 16.9%\n",
      "Epoch: 17\n",
      "\t(train)\t|\tLoss: 0.0055\t|\tAcc: 16.8%\n",
      "\t(valid)\t|\tLoss: 0.0055\t|\tAcc: 17.0%\n",
      "Epoch: 18\n",
      "\t(train)\t|\tLoss: 0.0055\t|\tAcc: 16.7%\n",
      "\t(valid)\t|\tLoss: 0.0055\t|\tAcc: 17.0%\n",
      "Epoch: 19\n",
      "\t(train)\t|\tLoss: 0.0055\t|\tAcc: 16.7%\n",
      "\t(valid)\t|\tLoss: 0.0055\t|\tAcc: 17.0%\n"
     ]
    }
   ],
   "source": [
    "# Create a for loop that will iterate through the specified number of epochs and will train the model with the training set and assess the performance on the validation set and print their scores\n",
    "from src.models.pytorch import train_classification, test_classification\n",
    "\n",
    "for epoch in range(N_EPOCHS):\n",
    "    train_loss, train_acc = train_classification(train_dataset, model=model, criterion=criterion, optimizer=optimizer, batch_size=BATCH_SIZE, device=device)\n",
    "    valid_loss, valid_acc = test_classification(val_dataset, model=model, criterion=criterion, batch_size=BATCH_SIZE, device=device)\n",
    "\n",
    "    print(f'Epoch: {epoch}')\n",
    "    print(f'\\t(train)\\t|\\tLoss: {train_loss:.4f}\\t|\\tAcc: {train_acc * 100:.1f}%')\n",
    "    print(f'\\t(valid)\\t|\\tLoss: {valid_loss:.4f}\\t|\\tAcc: {valid_acc * 100:.1f}%')"
   ]
  },
  {
   "cell_type": "code",
   "execution_count": 85,
   "metadata": {},
   "outputs": [],
   "source": [
    "# Save the model state_dict into the models folder\n",
    "torch.save(model.state_dict(), \"../models/pytorch_multi_beer.pt\")\n"
   ]
  },
  {
   "cell_type": "code",
   "execution_count": 84,
   "metadata": {},
   "outputs": [
    {
     "name": "stdout",
     "output_type": "stream",
     "text": [
      "\tLoss: 0.0055\t|\tAccuracy: 0.170\n"
     ]
    }
   ],
   "source": [
    "#  Assess the model performance on the testing set and print its scores\n",
    "test_loss, test_acc=test_classification(\n",
    "test_dataset, \n",
    "model=model, \n",
    "criterion=criterion, \n",
    "batch_size=BATCH_SIZE, \n",
    "device=device)\n",
    "print(f'\\tLoss: {test_loss:.4f}\\t|\\tAccuracy: {test_acc:.3f}')"
   ]
  },
  {
   "cell_type": "code",
   "execution_count": 37,
   "metadata": {},
   "outputs": [],
   "source": [
    "model=PytorchMultiClass(num_features=4)\n",
    "model.load_state_dict(torch.load(\"../models/pytorch_multi_beer.pt\"))\n",
    "X_train_tensor=torch.Tensor(np.array(X_train))\n",
    "y=model(X_train_tensor)"
   ]
  },
  {
   "cell_type": "code",
   "execution_count": 36,
   "metadata": {},
   "outputs": [
    {
     "data": {
      "image/svg+xml": "<?xml version=\"1.0\" encoding=\"UTF-8\" standalone=\"no\"?>\n<!DOCTYPE svg PUBLIC \"-//W3C//DTD SVG 1.1//EN\"\n \"http://www.w3.org/Graphics/SVG/1.1/DTD/svg11.dtd\">\n<!-- Generated by graphviz version 7.0.4 (20221203.1631)\n -->\n<!-- Pages: 1 -->\n<svg width=\"353pt\" height=\"523pt\"\n viewBox=\"0.00 0.00 353.00 523.00\" xmlns=\"http://www.w3.org/2000/svg\" xmlns:xlink=\"http://www.w3.org/1999/xlink\">\n<g id=\"graph0\" class=\"graph\" transform=\"scale(1 1) rotate(0) translate(4 519)\">\n<polygon fill=\"white\" stroke=\"none\" points=\"-4,4 -4,-519 349,-519 349,4 -4,4\"/>\n<!-- 2130422996640 -->\n<g id=\"node1\" class=\"node\">\n<title>2130422996640</title>\n<polygon fill=\"#caff70\" stroke=\"black\" points=\"193.5,-31 139.5,-31 139.5,0 193.5,0 193.5,-31\"/>\n<text text-anchor=\"middle\" x=\"166.5\" y=\"-7\" font-family=\"monospace\" font-size=\"10.00\"> ()</text>\n</g>\n<!-- 2130902029600 -->\n<g id=\"node2\" class=\"node\">\n<title>2130902029600</title>\n<polygon fill=\"lightgrey\" stroke=\"black\" points=\"214,-86 119,-86 119,-67 214,-67 214,-86\"/>\n<text text-anchor=\"middle\" x=\"166.5\" y=\"-74\" font-family=\"monospace\" font-size=\"10.00\">MeanBackward0</text>\n</g>\n<!-- 2130902029600&#45;&gt;2130422996640 -->\n<g id=\"edge15\" class=\"edge\">\n<title>2130902029600&#45;&gt;2130422996640</title>\n<path fill=\"none\" stroke=\"black\" d=\"M166.5,-66.54C166.5,-60.07 166.5,-50.98 166.5,-42.32\"/>\n<polygon fill=\"black\" stroke=\"black\" points=\"170,-42.58 166.5,-32.58 163,-42.58 170,-42.58\"/>\n</g>\n<!-- 2130902030320 -->\n<g id=\"node3\" class=\"node\">\n<title>2130902030320</title>\n<polygon fill=\"lightgrey\" stroke=\"black\" points=\"217,-141 116,-141 116,-122 217,-122 217,-141\"/>\n<text text-anchor=\"middle\" x=\"166.5\" y=\"-129\" font-family=\"monospace\" font-size=\"10.00\">AddmmBackward0</text>\n</g>\n<!-- 2130902030320&#45;&gt;2130902029600 -->\n<g id=\"edge1\" class=\"edge\">\n<title>2130902030320&#45;&gt;2130902029600</title>\n<path fill=\"none\" stroke=\"black\" d=\"M166.5,-121.75C166.5,-115.27 166.5,-106.16 166.5,-97.9\"/>\n<polygon fill=\"black\" stroke=\"black\" points=\"170,-97.96 166.5,-87.96 163,-97.96 170,-97.96\"/>\n</g>\n<!-- 2130902030512 -->\n<g id=\"node4\" class=\"node\">\n<title>2130902030512</title>\n<polygon fill=\"lightgrey\" stroke=\"black\" points=\"102,-196 1,-196 1,-177 102,-177 102,-196\"/>\n<text text-anchor=\"middle\" x=\"51.5\" y=\"-184\" font-family=\"monospace\" font-size=\"10.00\">AccumulateGrad</text>\n</g>\n<!-- 2130902030512&#45;&gt;2130902030320 -->\n<g id=\"edge2\" class=\"edge\">\n<title>2130902030512&#45;&gt;2130902030320</title>\n<path fill=\"none\" stroke=\"black\" d=\"M71.01,-176.51C89.13,-168.16 116.35,-155.61 137.1,-146.05\"/>\n<polygon fill=\"black\" stroke=\"black\" points=\"138.29,-149.36 145.91,-141.99 135.36,-143 138.29,-149.36\"/>\n</g>\n<!-- 2130901654240 -->\n<g id=\"node5\" class=\"node\">\n<title>2130901654240</title>\n<polygon fill=\"lightblue\" stroke=\"black\" points=\"101,-262 0,-262 0,-232 101,-232 101,-262\"/>\n<text text-anchor=\"middle\" x=\"50.5\" y=\"-250\" font-family=\"monospace\" font-size=\"10.00\">layer_out.bias</text>\n<text text-anchor=\"middle\" x=\"50.5\" y=\"-239\" font-family=\"monospace\" font-size=\"10.00\"> (20)</text>\n</g>\n<!-- 2130901654240&#45;&gt;2130902030512 -->\n<g id=\"edge3\" class=\"edge\">\n<title>2130901654240&#45;&gt;2130902030512</title>\n<path fill=\"none\" stroke=\"black\" d=\"M50.75,-231.54C50.87,-224.34 51.02,-215.53 51.16,-207.68\"/>\n<polygon fill=\"black\" stroke=\"black\" points=\"54.65,-207.75 51.33,-197.69 47.66,-207.63 54.65,-207.75\"/>\n</g>\n<!-- 2130902030416 -->\n<g id=\"node6\" class=\"node\">\n<title>2130902030416</title>\n<polygon fill=\"lightgrey\" stroke=\"black\" points=\"211,-196 122,-196 122,-177 211,-177 211,-196\"/>\n<text text-anchor=\"middle\" x=\"166.5\" y=\"-184\" font-family=\"monospace\" font-size=\"10.00\">MulBackward0</text>\n</g>\n<!-- 2130902030416&#45;&gt;2130902030320 -->\n<g id=\"edge4\" class=\"edge\">\n<title>2130902030416&#45;&gt;2130902030320</title>\n<path fill=\"none\" stroke=\"black\" d=\"M166.5,-176.75C166.5,-170.27 166.5,-161.16 166.5,-152.9\"/>\n<polygon fill=\"black\" stroke=\"black\" points=\"170,-152.96 166.5,-142.96 163,-152.96 170,-152.96\"/>\n</g>\n<!-- 2130902030464 -->\n<g id=\"node7\" class=\"node\">\n<title>2130902030464</title>\n<polygon fill=\"lightgrey\" stroke=\"black\" points=\"214,-256.5 119,-256.5 119,-237.5 214,-237.5 214,-256.5\"/>\n<text text-anchor=\"middle\" x=\"166.5\" y=\"-244.5\" font-family=\"monospace\" font-size=\"10.00\">ReluBackward0</text>\n</g>\n<!-- 2130902030464&#45;&gt;2130902030416 -->\n<g id=\"edge5\" class=\"edge\">\n<title>2130902030464&#45;&gt;2130902030416</title>\n<path fill=\"none\" stroke=\"black\" d=\"M166.5,-237.37C166.5,-229.5 166.5,-217.6 166.5,-207.39\"/>\n<polygon fill=\"black\" stroke=\"black\" points=\"170,-207.68 166.5,-197.68 163,-207.68 170,-207.68\"/>\n</g>\n<!-- 2130902030176 -->\n<g id=\"node8\" class=\"node\">\n<title>2130902030176</title>\n<polygon fill=\"lightgrey\" stroke=\"black\" points=\"214,-322.5 113,-322.5 113,-303.5 214,-303.5 214,-322.5\"/>\n<text text-anchor=\"middle\" x=\"163.5\" y=\"-310.5\" font-family=\"monospace\" font-size=\"10.00\">AddmmBackward0</text>\n</g>\n<!-- 2130902030176&#45;&gt;2130902030464 -->\n<g id=\"edge6\" class=\"edge\">\n<title>2130902030176&#45;&gt;2130902030464</title>\n<path fill=\"none\" stroke=\"black\" d=\"M163.92,-303.1C164.34,-294.12 165,-279.95 165.55,-268.22\"/>\n<polygon fill=\"black\" stroke=\"black\" points=\"169.04,-268.49 166.02,-258.34 162.05,-268.16 169.04,-268.49\"/>\n</g>\n<!-- 2130902030080 -->\n<g id=\"node9\" class=\"node\">\n<title>2130902030080</title>\n<polygon fill=\"lightgrey\" stroke=\"black\" points=\"161,-383 60,-383 60,-364 161,-364 161,-383\"/>\n<text text-anchor=\"middle\" x=\"110.5\" y=\"-371\" font-family=\"monospace\" font-size=\"10.00\">AccumulateGrad</text>\n</g>\n<!-- 2130902030080&#45;&gt;2130902030176 -->\n<g id=\"edge7\" class=\"edge\">\n<title>2130902030080&#45;&gt;2130902030176</title>\n<path fill=\"none\" stroke=\"black\" d=\"M118.32,-363.87C126.15,-355.23 138.4,-341.7 148.17,-330.92\"/>\n<polygon fill=\"black\" stroke=\"black\" points=\"150.51,-333.55 154.63,-323.79 145.32,-328.85 150.51,-333.55\"/>\n</g>\n<!-- 2130901653920 -->\n<g id=\"node10\" class=\"node\">\n<title>2130901653920</title>\n<polygon fill=\"lightblue\" stroke=\"black\" points=\"152,-449 63,-449 63,-419 152,-419 152,-449\"/>\n<text text-anchor=\"middle\" x=\"107.5\" y=\"-437\" font-family=\"monospace\" font-size=\"10.00\">layer_1.bias</text>\n<text text-anchor=\"middle\" x=\"107.5\" y=\"-426\" font-family=\"monospace\" font-size=\"10.00\"> (50)</text>\n</g>\n<!-- 2130901653920&#45;&gt;2130902030080 -->\n<g id=\"edge8\" class=\"edge\">\n<title>2130901653920&#45;&gt;2130902030080</title>\n<path fill=\"none\" stroke=\"black\" d=\"M108.24,-418.54C108.62,-411.26 109.07,-402.31 109.48,-394.39\"/>\n<polygon fill=\"black\" stroke=\"black\" points=\"112.96,-394.85 109.98,-384.69 105.97,-394.49 112.96,-394.85\"/>\n</g>\n<!-- 2130902030128 -->\n<g id=\"node11\" class=\"node\">\n<title>2130902030128</title>\n<polygon fill=\"lightgrey\" stroke=\"black\" points=\"257,-383 180,-383 180,-364 257,-364 257,-383\"/>\n<text text-anchor=\"middle\" x=\"218.5\" y=\"-371\" font-family=\"monospace\" font-size=\"10.00\">TBackward0</text>\n</g>\n<!-- 2130902030128&#45;&gt;2130902030176 -->\n<g id=\"edge9\" class=\"edge\">\n<title>2130902030128&#45;&gt;2130902030176</title>\n<path fill=\"none\" stroke=\"black\" d=\"M210.38,-363.87C202.26,-355.23 189.54,-341.7 179.4,-330.92\"/>\n<polygon fill=\"black\" stroke=\"black\" points=\"182.09,-328.66 172.69,-323.77 176.99,-333.45 182.09,-328.66\"/>\n</g>\n<!-- 2130902030032 -->\n<g id=\"node12\" class=\"node\">\n<title>2130902030032</title>\n<polygon fill=\"lightgrey\" stroke=\"black\" points=\"271,-443.5 170,-443.5 170,-424.5 271,-424.5 271,-443.5\"/>\n<text text-anchor=\"middle\" x=\"220.5\" y=\"-431.5\" font-family=\"monospace\" font-size=\"10.00\">AccumulateGrad</text>\n</g>\n<!-- 2130902030032&#45;&gt;2130902030128 -->\n<g id=\"edge10\" class=\"edge\">\n<title>2130902030032&#45;&gt;2130902030128</title>\n<path fill=\"none\" stroke=\"black\" d=\"M220.2,-424.37C219.94,-416.5 219.53,-404.6 219.18,-394.39\"/>\n<polygon fill=\"black\" stroke=\"black\" points=\"222.69,-394.55 218.85,-384.68 215.69,-394.79 222.69,-394.55\"/>\n</g>\n<!-- 2130423026608 -->\n<g id=\"node13\" class=\"node\">\n<title>2130423026608</title>\n<polygon fill=\"lightblue\" stroke=\"black\" points=\"271,-515 170,-515 170,-485 271,-485 271,-515\"/>\n<text text-anchor=\"middle\" x=\"220.5\" y=\"-503\" font-family=\"monospace\" font-size=\"10.00\">layer_1.weight</text>\n<text text-anchor=\"middle\" x=\"220.5\" y=\"-492\" font-family=\"monospace\" font-size=\"10.00\"> (50, 4)</text>\n</g>\n<!-- 2130423026608&#45;&gt;2130902030032 -->\n<g id=\"edge11\" class=\"edge\">\n<title>2130423026608&#45;&gt;2130902030032</title>\n<path fill=\"none\" stroke=\"black\" d=\"M220.5,-484.8C220.5,-476.09 220.5,-464.81 220.5,-455.18\"/>\n<polygon fill=\"black\" stroke=\"black\" points=\"224,-455.36 220.5,-445.36 217,-455.36 224,-455.36\"/>\n</g>\n<!-- 2130902030608 -->\n<g id=\"node14\" class=\"node\">\n<title>2130902030608</title>\n<polygon fill=\"lightgrey\" stroke=\"black\" points=\"313,-196 236,-196 236,-177 313,-177 313,-196\"/>\n<text text-anchor=\"middle\" x=\"274.5\" y=\"-184\" font-family=\"monospace\" font-size=\"10.00\">TBackward0</text>\n</g>\n<!-- 2130902030608&#45;&gt;2130902030320 -->\n<g id=\"edge12\" class=\"edge\">\n<title>2130902030608&#45;&gt;2130902030320</title>\n<path fill=\"none\" stroke=\"black\" d=\"M256.18,-176.51C239.32,-168.24 214.07,-155.84 194.65,-146.31\"/>\n<polygon fill=\"black\" stroke=\"black\" points=\"196.43,-143.29 185.91,-142.02 193.34,-149.57 196.43,-143.29\"/>\n</g>\n<!-- 2130902030272 -->\n<g id=\"node15\" class=\"node\">\n<title>2130902030272</title>\n<polygon fill=\"lightgrey\" stroke=\"black\" points=\"335,-256.5 234,-256.5 234,-237.5 335,-237.5 335,-256.5\"/>\n<text text-anchor=\"middle\" x=\"284.5\" y=\"-244.5\" font-family=\"monospace\" font-size=\"10.00\">AccumulateGrad</text>\n</g>\n<!-- 2130902030272&#45;&gt;2130902030608 -->\n<g id=\"edge13\" class=\"edge\">\n<title>2130902030272&#45;&gt;2130902030608</title>\n<path fill=\"none\" stroke=\"black\" d=\"M283.02,-237.37C281.68,-229.5 279.64,-217.6 277.9,-207.39\"/>\n<polygon fill=\"black\" stroke=\"black\" points=\"281.37,-206.93 276.24,-197.66 274.47,-208.11 281.37,-206.93\"/>\n</g>\n<!-- 2130901653760 -->\n<g id=\"node16\" class=\"node\">\n<title>2130901653760</title>\n<polygon fill=\"lightblue\" stroke=\"black\" points=\"345,-328 232,-328 232,-298 345,-298 345,-328\"/>\n<text text-anchor=\"middle\" x=\"288.5\" y=\"-316\" font-family=\"monospace\" font-size=\"10.00\">layer_out.weight</text>\n<text text-anchor=\"middle\" x=\"288.5\" y=\"-305\" font-family=\"monospace\" font-size=\"10.00\"> (20, 50)</text>\n</g>\n<!-- 2130901653760&#45;&gt;2130902030272 -->\n<g id=\"edge14\" class=\"edge\">\n<title>2130901653760&#45;&gt;2130902030272</title>\n<path fill=\"none\" stroke=\"black\" d=\"M287.61,-297.8C287.07,-289.09 286.36,-277.81 285.76,-268.18\"/>\n<polygon fill=\"black\" stroke=\"black\" points=\"289.26,-268.12 285.15,-258.35 282.28,-268.55 289.26,-268.12\"/>\n</g>\n</g>\n</svg>\n",
      "text/plain": [
       "<graphviz.graphs.Digraph at 0x1f023a89550>"
      ]
     },
     "execution_count": 36,
     "metadata": {},
     "output_type": "execute_result"
    }
   ],
   "source": [
    "# Visualize the model architecture\n",
    "from torchviz import make_dot\n",
    "make_dot(y.mean(),params=dict(model.named_parameters()))"
   ]
  },
  {
   "cell_type": "code",
   "execution_count": null,
   "metadata": {},
   "outputs": [],
   "source": []
  }
 ],
 "metadata": {
  "kernelspec": {
   "display_name": "Python 3 (ipykernel)",
   "language": "python",
   "name": "python3"
  },
  "language_info": {
   "codemirror_mode": {
    "name": "ipython",
    "version": 3
   },
   "file_extension": ".py",
   "mimetype": "text/x-python",
   "name": "python",
   "nbconvert_exporter": "python",
   "pygments_lexer": "ipython3",
   "version": "3.9.6"
  },
  "vscode": {
   "interpreter": {
    "hash": "5087c292a60e433539a3ea1db33a548e8b6d2b5fd0ec051734d3134be8f1ad1a"
   }
  }
 },
 "nbformat": 4,
 "nbformat_minor": 4
}
